{
  "cells": [
    {
      "cell_type": "markdown",
      "id": "f2e09e85",
      "metadata": {
        "id": "f2e09e85"
      },
      "source": [
        "The objective of the project is to calculate the duration of how long a person lived based on his Age. The duration should be calculated in different time units like Months, Weeks, Days, Hours, Minutes, Seconds\n",
        "The input to the application is an Age of a person and the output is expected to calculate the duration of time he lived in different time units as selected by the user.\n"
      ]
    },
    {
      "cell_type": "code",
      "execution_count": 2,
      "id": "b5539d77",
      "metadata": {
        "colab": {
          "base_uri": "https://localhost:8080/"
        },
        "id": "b5539d77",
        "outputId": "0e2b5552-41d7-4bf8-aeff-4330dc9c2d8c"
      },
      "outputs": [
        {
          "output_type": "stream",
          "name": "stdout",
          "text": [
            "Enter the age of the person: 12\n",
            "The person has lived for:\n",
            "144 months\n",
            "624 weeks\n",
            "4380 days\n",
            "105120 hours\n",
            "6307200 minutes\n",
            "378432000 seconds\n"
          ]
        }
      ],
      "source": [
        "from datetime import datetime, timedelta\n",
        "\n",
        "def age_to_duration(age):\n",
        "\n",
        "    today = datetime.now()\n",
        "    birth_date = today - timedelta(days=365 * age)\n",
        "\n",
        "    duration = {\n",
        "        'months': age * 12,\n",
        "        'weeks': age * 52,\n",
        "        'days': age * 365,\n",
        "        'hours': age * 365 * 24,\n",
        "        'minutes': age * 365 * 24 * 60,\n",
        "        'seconds': age * 365 * 24 * 60 * 60\n",
        "    }\n",
        "\n",
        "    return duration\n",
        "\n",
        "if __name__ == \"__main__\":\n",
        "    age = int(input(\"Enter the age of the person: \"))\n",
        "\n",
        "    duration = age_to_duration(age)\n",
        "\n",
        "    print(f\"The person has lived for:\")\n",
        "    for unit, value in duration.items():\n",
        "        print(f\"{value} {unit}\")"
      ]
    },
    {
      "cell_type": "code",
      "execution_count": null,
      "id": "2a104b36",
      "metadata": {
        "id": "2a104b36"
      },
      "outputs": [],
      "source": []
    },
    {
      "cell_type": "code",
      "execution_count": null,
      "id": "d6bee3c6",
      "metadata": {
        "id": "d6bee3c6"
      },
      "outputs": [],
      "source": []
    },
    {
      "cell_type": "code",
      "execution_count": null,
      "id": "681c0ccd",
      "metadata": {
        "id": "681c0ccd"
      },
      "outputs": [],
      "source": []
    },
    {
      "cell_type": "code",
      "execution_count": null,
      "id": "615aa8a9",
      "metadata": {
        "id": "615aa8a9"
      },
      "outputs": [],
      "source": []
    },
    {
      "cell_type": "code",
      "execution_count": null,
      "id": "153bba58",
      "metadata": {
        "id": "153bba58"
      },
      "outputs": [],
      "source": []
    }
  ],
  "metadata": {
    "kernelspec": {
      "display_name": "Python 3 (ipykernel)",
      "language": "python",
      "name": "python3"
    },
    "language_info": {
      "codemirror_mode": {
        "name": "ipython",
        "version": 3
      },
      "file_extension": ".py",
      "mimetype": "text/x-python",
      "name": "python",
      "nbconvert_exporter": "python",
      "pygments_lexer": "ipython3",
      "version": "3.11.5"
    },
    "colab": {
      "provenance": []
    }
  },
  "nbformat": 4,
  "nbformat_minor": 5
}